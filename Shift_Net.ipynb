{
  "cells": [
    {
      "cell_type": "markdown",
      "metadata": {
        "id": "IRDbDYYMQt_Y"
      },
      "source": [
        "\n",
        "\n"
      ]
    },
    {
      "cell_type": "markdown",
      "metadata": {
        "id": "6BPxh_VmVVIu"
      },
      "source": [
        "# 1. Preparations\n",
        "Before start, make sure that you choose\n",
        "* Runtime Type = Python 3\n",
        "* Hardware Accelerator = GPU\n",
        "* Broswer != Firefox (cannot upload images in step 2)\n",
        "\n",
        "in the **Runtime** menu -> **Change runtime type**\n",
        "\n",
        "Then, we clone the repository, set up the envrironment, and download the pre-trained model."
      ]
    },
    {
      "cell_type": "code",
      "execution_count": 2,
      "metadata": {
        "colab": {
          "base_uri": "https://localhost:8080/"
        },
        "id": "GnpnrLfMV2jU",
        "outputId": "37385d8d-95a8-4641-f2f6-c4de03d90e13"
      },
      "outputs": [
        {
          "output_type": "stream",
          "name": "stdout",
          "text": [
            "rm: cannot remove 'Shift-Net': No such file or directory\n",
            "Cloning into 'Shift-Net'...\n",
            "remote: Enumerating objects: 177, done.\u001b[K\n",
            "remote: Counting objects: 100% (32/32), done.\u001b[K\n",
            "remote: Compressing objects: 100% (6/6), done.\u001b[K\n",
            "remote: Total 177 (delta 26), reused 26 (delta 26), pack-reused 145 (from 1)\u001b[K\n",
            "Receiving objects: 100% (177/177), 5.38 MiB | 11.96 MiB/s, done.\n",
            "Resolving deltas: 100% (60/60), done.\n",
            "/content/Shift-Net\n",
            "Collecting addict (from -r requirements.txt (line 1))\n",
            "  Downloading addict-2.4.0-py3-none-any.whl.metadata (1.0 kB)\n",
            "Requirement already satisfied: future in /usr/local/lib/python3.11/dist-packages (from -r requirements.txt (line 2)) (1.0.0)\n",
            "Collecting lmdb (from -r requirements.txt (line 3))\n",
            "  Downloading lmdb-1.6.2-cp311-cp311-manylinux_2_17_x86_64.manylinux2014_x86_64.whl.metadata (1.1 kB)\n",
            "Requirement already satisfied: numpy in /usr/local/lib/python3.11/dist-packages (from -r requirements.txt (line 4)) (2.0.2)\n",
            "Requirement already satisfied: opencv-python in /usr/local/lib/python3.11/dist-packages (from -r requirements.txt (line 5)) (4.11.0.86)\n",
            "Requirement already satisfied: Pillow in /usr/local/lib/python3.11/dist-packages (from -r requirements.txt (line 6)) (11.1.0)\n",
            "Requirement already satisfied: pyyaml in /usr/local/lib/python3.11/dist-packages (from -r requirements.txt (line 7)) (6.0.2)\n",
            "Requirement already satisfied: requests in /usr/local/lib/python3.11/dist-packages (from -r requirements.txt (line 8)) (2.32.3)\n",
            "Requirement already satisfied: scikit-image in /usr/local/lib/python3.11/dist-packages (from -r requirements.txt (line 9)) (0.25.2)\n",
            "Requirement already satisfied: scipy in /usr/local/lib/python3.11/dist-packages (from -r requirements.txt (line 10)) (1.14.1)\n",
            "Collecting tb-nightly (from -r requirements.txt (line 11))\n",
            "  Downloading tb_nightly-2.20.0a20250413-py3-none-any.whl.metadata (1.9 kB)\n",
            "Requirement already satisfied: tqdm in /usr/local/lib/python3.11/dist-packages (from -r requirements.txt (line 12)) (4.67.1)\n",
            "Collecting yapf (from -r requirements.txt (line 13))\n",
            "  Downloading yapf-0.43.0-py3-none-any.whl.metadata (46 kB)\n",
            "\u001b[2K     \u001b[90m━━━━━━━━━━━━━━━━━━━━━━━━━━━━━━━━━━━━━━━━\u001b[0m \u001b[32m46.8/46.8 kB\u001b[0m \u001b[31m1.6 MB/s\u001b[0m eta \u001b[36m0:00:00\u001b[0m\n",
            "\u001b[?25hCollecting thop (from -r requirements.txt (line 14))\n",
            "  Downloading thop-0.1.1.post2209072238-py3-none-any.whl.metadata (2.7 kB)\n",
            "Requirement already satisfied: charset-normalizer<4,>=2 in /usr/local/lib/python3.11/dist-packages (from requests->-r requirements.txt (line 8)) (3.4.1)\n",
            "Requirement already satisfied: idna<4,>=2.5 in /usr/local/lib/python3.11/dist-packages (from requests->-r requirements.txt (line 8)) (3.10)\n",
            "Requirement already satisfied: urllib3<3,>=1.21.1 in /usr/local/lib/python3.11/dist-packages (from requests->-r requirements.txt (line 8)) (2.3.0)\n",
            "Requirement already satisfied: certifi>=2017.4.17 in /usr/local/lib/python3.11/dist-packages (from requests->-r requirements.txt (line 8)) (2025.1.31)\n",
            "Requirement already satisfied: networkx>=3.0 in /usr/local/lib/python3.11/dist-packages (from scikit-image->-r requirements.txt (line 9)) (3.4.2)\n",
            "Requirement already satisfied: imageio!=2.35.0,>=2.33 in /usr/local/lib/python3.11/dist-packages (from scikit-image->-r requirements.txt (line 9)) (2.37.0)\n",
            "Requirement already satisfied: tifffile>=2022.8.12 in /usr/local/lib/python3.11/dist-packages (from scikit-image->-r requirements.txt (line 9)) (2025.3.30)\n",
            "Requirement already satisfied: packaging>=21 in /usr/local/lib/python3.11/dist-packages (from scikit-image->-r requirements.txt (line 9)) (24.2)\n",
            "Requirement already satisfied: lazy-loader>=0.4 in /usr/local/lib/python3.11/dist-packages (from scikit-image->-r requirements.txt (line 9)) (0.4)\n",
            "Requirement already satisfied: absl-py>=0.4 in /usr/local/lib/python3.11/dist-packages (from tb-nightly->-r requirements.txt (line 11)) (1.4.0)\n",
            "Requirement already satisfied: grpcio>=1.48.2 in /usr/local/lib/python3.11/dist-packages (from tb-nightly->-r requirements.txt (line 11)) (1.71.0)\n",
            "Requirement already satisfied: markdown>=2.6.8 in /usr/local/lib/python3.11/dist-packages (from tb-nightly->-r requirements.txt (line 11)) (3.7)\n",
            "Requirement already satisfied: protobuf!=4.24.0,>=3.19.6 in /usr/local/lib/python3.11/dist-packages (from tb-nightly->-r requirements.txt (line 11)) (5.29.4)\n",
            "Requirement already satisfied: setuptools>=41.0.0 in /usr/local/lib/python3.11/dist-packages (from tb-nightly->-r requirements.txt (line 11)) (75.2.0)\n",
            "Requirement already satisfied: six>1.9 in /usr/local/lib/python3.11/dist-packages (from tb-nightly->-r requirements.txt (line 11)) (1.17.0)\n",
            "Requirement already satisfied: tensorboard-data-server<0.8.0,>=0.7.0 in /usr/local/lib/python3.11/dist-packages (from tb-nightly->-r requirements.txt (line 11)) (0.7.2)\n",
            "Requirement already satisfied: werkzeug>=1.0.1 in /usr/local/lib/python3.11/dist-packages (from tb-nightly->-r requirements.txt (line 11)) (3.1.3)\n",
            "Requirement already satisfied: platformdirs>=3.5.1 in /usr/local/lib/python3.11/dist-packages (from yapf->-r requirements.txt (line 13)) (4.3.7)\n",
            "Requirement already satisfied: torch in /usr/local/lib/python3.11/dist-packages (from thop->-r requirements.txt (line 14)) (2.6.0+cu124)\n",
            "Requirement already satisfied: MarkupSafe>=2.1.1 in /usr/local/lib/python3.11/dist-packages (from werkzeug>=1.0.1->tb-nightly->-r requirements.txt (line 11)) (3.0.2)\n",
            "Requirement already satisfied: filelock in /usr/local/lib/python3.11/dist-packages (from torch->thop->-r requirements.txt (line 14)) (3.18.0)\n",
            "Requirement already satisfied: typing-extensions>=4.10.0 in /usr/local/lib/python3.11/dist-packages (from torch->thop->-r requirements.txt (line 14)) (4.13.1)\n",
            "Requirement already satisfied: jinja2 in /usr/local/lib/python3.11/dist-packages (from torch->thop->-r requirements.txt (line 14)) (3.1.6)\n",
            "Requirement already satisfied: fsspec in /usr/local/lib/python3.11/dist-packages (from torch->thop->-r requirements.txt (line 14)) (2025.3.2)\n",
            "Collecting nvidia-cuda-nvrtc-cu12==12.4.127 (from torch->thop->-r requirements.txt (line 14))\n",
            "  Downloading nvidia_cuda_nvrtc_cu12-12.4.127-py3-none-manylinux2014_x86_64.whl.metadata (1.5 kB)\n",
            "Collecting nvidia-cuda-runtime-cu12==12.4.127 (from torch->thop->-r requirements.txt (line 14))\n",
            "  Downloading nvidia_cuda_runtime_cu12-12.4.127-py3-none-manylinux2014_x86_64.whl.metadata (1.5 kB)\n",
            "Collecting nvidia-cuda-cupti-cu12==12.4.127 (from torch->thop->-r requirements.txt (line 14))\n",
            "  Downloading nvidia_cuda_cupti_cu12-12.4.127-py3-none-manylinux2014_x86_64.whl.metadata (1.6 kB)\n",
            "Collecting nvidia-cudnn-cu12==9.1.0.70 (from torch->thop->-r requirements.txt (line 14))\n",
            "  Downloading nvidia_cudnn_cu12-9.1.0.70-py3-none-manylinux2014_x86_64.whl.metadata (1.6 kB)\n",
            "Collecting nvidia-cublas-cu12==12.4.5.8 (from torch->thop->-r requirements.txt (line 14))\n",
            "  Downloading nvidia_cublas_cu12-12.4.5.8-py3-none-manylinux2014_x86_64.whl.metadata (1.5 kB)\n",
            "Collecting nvidia-cufft-cu12==11.2.1.3 (from torch->thop->-r requirements.txt (line 14))\n",
            "  Downloading nvidia_cufft_cu12-11.2.1.3-py3-none-manylinux2014_x86_64.whl.metadata (1.5 kB)\n",
            "Collecting nvidia-curand-cu12==10.3.5.147 (from torch->thop->-r requirements.txt (line 14))\n",
            "  Downloading nvidia_curand_cu12-10.3.5.147-py3-none-manylinux2014_x86_64.whl.metadata (1.5 kB)\n",
            "Collecting nvidia-cusolver-cu12==11.6.1.9 (from torch->thop->-r requirements.txt (line 14))\n",
            "  Downloading nvidia_cusolver_cu12-11.6.1.9-py3-none-manylinux2014_x86_64.whl.metadata (1.6 kB)\n",
            "Collecting nvidia-cusparse-cu12==12.3.1.170 (from torch->thop->-r requirements.txt (line 14))\n",
            "  Downloading nvidia_cusparse_cu12-12.3.1.170-py3-none-manylinux2014_x86_64.whl.metadata (1.6 kB)\n",
            "Requirement already satisfied: nvidia-cusparselt-cu12==0.6.2 in /usr/local/lib/python3.11/dist-packages (from torch->thop->-r requirements.txt (line 14)) (0.6.2)\n",
            "Requirement already satisfied: nvidia-nccl-cu12==2.21.5 in /usr/local/lib/python3.11/dist-packages (from torch->thop->-r requirements.txt (line 14)) (2.21.5)\n",
            "Requirement already satisfied: nvidia-nvtx-cu12==12.4.127 in /usr/local/lib/python3.11/dist-packages (from torch->thop->-r requirements.txt (line 14)) (12.4.127)\n",
            "Collecting nvidia-nvjitlink-cu12==12.4.127 (from torch->thop->-r requirements.txt (line 14))\n",
            "  Downloading nvidia_nvjitlink_cu12-12.4.127-py3-none-manylinux2014_x86_64.whl.metadata (1.5 kB)\n",
            "Requirement already satisfied: triton==3.2.0 in /usr/local/lib/python3.11/dist-packages (from torch->thop->-r requirements.txt (line 14)) (3.2.0)\n",
            "Requirement already satisfied: sympy==1.13.1 in /usr/local/lib/python3.11/dist-packages (from torch->thop->-r requirements.txt (line 14)) (1.13.1)\n",
            "Requirement already satisfied: mpmath<1.4,>=1.1.0 in /usr/local/lib/python3.11/dist-packages (from sympy==1.13.1->torch->thop->-r requirements.txt (line 14)) (1.3.0)\n",
            "Downloading addict-2.4.0-py3-none-any.whl (3.8 kB)\n",
            "Downloading lmdb-1.6.2-cp311-cp311-manylinux_2_17_x86_64.manylinux2014_x86_64.whl (297 kB)\n",
            "\u001b[2K   \u001b[90m━━━━━━━━━━━━━━━━━━━━━━━━━━━━━━━━━━━━━━━━\u001b[0m \u001b[32m297.8/297.8 kB\u001b[0m \u001b[31m7.8 MB/s\u001b[0m eta \u001b[36m0:00:00\u001b[0m\n",
            "\u001b[?25hDownloading tb_nightly-2.20.0a20250413-py3-none-any.whl (5.5 MB)\n",
            "\u001b[2K   \u001b[90m━━━━━━━━━━━━━━━━━━━━━━━━━━━━━━━━━━━━━━━━\u001b[0m \u001b[32m5.5/5.5 MB\u001b[0m \u001b[31m72.4 MB/s\u001b[0m eta \u001b[36m0:00:00\u001b[0m\n",
            "\u001b[?25hDownloading yapf-0.43.0-py3-none-any.whl (256 kB)\n",
            "\u001b[2K   \u001b[90m━━━━━━━━━━━━━━━━━━━━━━━━━━━━━━━━━━━━━━━━\u001b[0m \u001b[32m256.2/256.2 kB\u001b[0m \u001b[31m18.1 MB/s\u001b[0m eta \u001b[36m0:00:00\u001b[0m\n",
            "\u001b[?25hDownloading thop-0.1.1.post2209072238-py3-none-any.whl (15 kB)\n",
            "Downloading nvidia_cublas_cu12-12.4.5.8-py3-none-manylinux2014_x86_64.whl (363.4 MB)\n",
            "\u001b[2K   \u001b[90m━━━━━━━━━━━━━━━━━━━━━━━━━━━━━━━━━━━━━━━━\u001b[0m \u001b[32m363.4/363.4 MB\u001b[0m \u001b[31m3.3 MB/s\u001b[0m eta \u001b[36m0:00:00\u001b[0m\n",
            "\u001b[?25hDownloading nvidia_cuda_cupti_cu12-12.4.127-py3-none-manylinux2014_x86_64.whl (13.8 MB)\n",
            "\u001b[2K   \u001b[90m━━━━━━━━━━━━━━━━━━━━━━━━━━━━━━━━━━━━━━━━\u001b[0m \u001b[32m13.8/13.8 MB\u001b[0m \u001b[31m113.6 MB/s\u001b[0m eta \u001b[36m0:00:00\u001b[0m\n",
            "\u001b[?25hDownloading nvidia_cuda_nvrtc_cu12-12.4.127-py3-none-manylinux2014_x86_64.whl (24.6 MB)\n",
            "\u001b[2K   \u001b[90m━━━━━━━━━━━━━━━━━━━━━━━━━━━━━━━━━━━━━━━━\u001b[0m \u001b[32m24.6/24.6 MB\u001b[0m \u001b[31m81.3 MB/s\u001b[0m eta \u001b[36m0:00:00\u001b[0m\n",
            "\u001b[?25hDownloading nvidia_cuda_runtime_cu12-12.4.127-py3-none-manylinux2014_x86_64.whl (883 kB)\n",
            "\u001b[2K   \u001b[90m━━━━━━━━━━━━━━━━━━━━━━━━━━━━━━━━━━━━━━━━\u001b[0m \u001b[32m883.7/883.7 kB\u001b[0m \u001b[31m58.3 MB/s\u001b[0m eta \u001b[36m0:00:00\u001b[0m\n",
            "\u001b[?25hDownloading nvidia_cudnn_cu12-9.1.0.70-py3-none-manylinux2014_x86_64.whl (664.8 MB)\n",
            "\u001b[2K   \u001b[90m━━━━━━━━━━━━━━━━━━━━━━━━━━━━━━━━━━━━━━━━\u001b[0m \u001b[32m664.8/664.8 MB\u001b[0m \u001b[31m2.1 MB/s\u001b[0m eta \u001b[36m0:00:00\u001b[0m\n",
            "\u001b[?25hDownloading nvidia_cufft_cu12-11.2.1.3-py3-none-manylinux2014_x86_64.whl (211.5 MB)\n",
            "\u001b[2K   \u001b[90m━━━━━━━━━━━━━━━━━━━━━━━━━━━━━━━━━━━━━━━━\u001b[0m \u001b[32m211.5/211.5 MB\u001b[0m \u001b[31m5.3 MB/s\u001b[0m eta \u001b[36m0:00:00\u001b[0m\n",
            "\u001b[?25hDownloading nvidia_curand_cu12-10.3.5.147-py3-none-manylinux2014_x86_64.whl (56.3 MB)\n",
            "\u001b[2K   \u001b[90m━━━━━━━━━━━━━━━━━━━━━━━━━━━━━━━━━━━━━━━━\u001b[0m \u001b[32m56.3/56.3 MB\u001b[0m \u001b[31m40.9 MB/s\u001b[0m eta \u001b[36m0:00:00\u001b[0m\n",
            "\u001b[?25hDownloading nvidia_cusolver_cu12-11.6.1.9-py3-none-manylinux2014_x86_64.whl (127.9 MB)\n",
            "\u001b[2K   \u001b[90m━━━━━━━━━━━━━━━━━━━━━━━━━━━━━━━━━━━━━━━━\u001b[0m \u001b[32m127.9/127.9 MB\u001b[0m \u001b[31m18.4 MB/s\u001b[0m eta \u001b[36m0:00:00\u001b[0m\n",
            "\u001b[?25hDownloading nvidia_cusparse_cu12-12.3.1.170-py3-none-manylinux2014_x86_64.whl (207.5 MB)\n",
            "\u001b[2K   \u001b[90m━━━━━━━━━━━━━━━━━━━━━━━━━━━━━━━━━━━━━━━━\u001b[0m \u001b[32m207.5/207.5 MB\u001b[0m \u001b[31m3.8 MB/s\u001b[0m eta \u001b[36m0:00:00\u001b[0m\n",
            "\u001b[?25hDownloading nvidia_nvjitlink_cu12-12.4.127-py3-none-manylinux2014_x86_64.whl (21.1 MB)\n",
            "\u001b[2K   \u001b[90m━━━━━━━━━━━━━━━━━━━━━━━━━━━━━━━━━━━━━━━━\u001b[0m \u001b[32m21.1/21.1 MB\u001b[0m \u001b[31m82.0 MB/s\u001b[0m eta \u001b[36m0:00:00\u001b[0m\n",
            "\u001b[?25hInstalling collected packages: lmdb, addict, yapf, nvidia-nvjitlink-cu12, nvidia-curand-cu12, nvidia-cufft-cu12, nvidia-cuda-runtime-cu12, nvidia-cuda-nvrtc-cu12, nvidia-cuda-cupti-cu12, nvidia-cublas-cu12, tb-nightly, nvidia-cusparse-cu12, nvidia-cudnn-cu12, nvidia-cusolver-cu12, thop\n",
            "  Attempting uninstall: nvidia-nvjitlink-cu12\n",
            "    Found existing installation: nvidia-nvjitlink-cu12 12.5.82\n",
            "    Uninstalling nvidia-nvjitlink-cu12-12.5.82:\n",
            "      Successfully uninstalled nvidia-nvjitlink-cu12-12.5.82\n",
            "  Attempting uninstall: nvidia-curand-cu12\n",
            "    Found existing installation: nvidia-curand-cu12 10.3.6.82\n",
            "    Uninstalling nvidia-curand-cu12-10.3.6.82:\n",
            "      Successfully uninstalled nvidia-curand-cu12-10.3.6.82\n",
            "  Attempting uninstall: nvidia-cufft-cu12\n",
            "    Found existing installation: nvidia-cufft-cu12 11.2.3.61\n",
            "    Uninstalling nvidia-cufft-cu12-11.2.3.61:\n",
            "      Successfully uninstalled nvidia-cufft-cu12-11.2.3.61\n",
            "  Attempting uninstall: nvidia-cuda-runtime-cu12\n",
            "    Found existing installation: nvidia-cuda-runtime-cu12 12.5.82\n",
            "    Uninstalling nvidia-cuda-runtime-cu12-12.5.82:\n",
            "      Successfully uninstalled nvidia-cuda-runtime-cu12-12.5.82\n",
            "  Attempting uninstall: nvidia-cuda-nvrtc-cu12\n",
            "    Found existing installation: nvidia-cuda-nvrtc-cu12 12.5.82\n",
            "    Uninstalling nvidia-cuda-nvrtc-cu12-12.5.82:\n",
            "      Successfully uninstalled nvidia-cuda-nvrtc-cu12-12.5.82\n",
            "  Attempting uninstall: nvidia-cuda-cupti-cu12\n",
            "    Found existing installation: nvidia-cuda-cupti-cu12 12.5.82\n",
            "    Uninstalling nvidia-cuda-cupti-cu12-12.5.82:\n",
            "      Successfully uninstalled nvidia-cuda-cupti-cu12-12.5.82\n",
            "  Attempting uninstall: nvidia-cublas-cu12\n",
            "    Found existing installation: nvidia-cublas-cu12 12.5.3.2\n",
            "    Uninstalling nvidia-cublas-cu12-12.5.3.2:\n",
            "      Successfully uninstalled nvidia-cublas-cu12-12.5.3.2\n",
            "  Attempting uninstall: nvidia-cusparse-cu12\n",
            "    Found existing installation: nvidia-cusparse-cu12 12.5.1.3\n",
            "    Uninstalling nvidia-cusparse-cu12-12.5.1.3:\n",
            "      Successfully uninstalled nvidia-cusparse-cu12-12.5.1.3\n",
            "  Attempting uninstall: nvidia-cudnn-cu12\n",
            "    Found existing installation: nvidia-cudnn-cu12 9.3.0.75\n",
            "    Uninstalling nvidia-cudnn-cu12-9.3.0.75:\n",
            "      Successfully uninstalled nvidia-cudnn-cu12-9.3.0.75\n",
            "  Attempting uninstall: nvidia-cusolver-cu12\n",
            "    Found existing installation: nvidia-cusolver-cu12 11.6.3.83\n",
            "    Uninstalling nvidia-cusolver-cu12-11.6.3.83:\n",
            "      Successfully uninstalled nvidia-cusolver-cu12-11.6.3.83\n",
            "Successfully installed addict-2.4.0 lmdb-1.6.2 nvidia-cublas-cu12-12.4.5.8 nvidia-cuda-cupti-cu12-12.4.127 nvidia-cuda-nvrtc-cu12-12.4.127 nvidia-cuda-runtime-cu12-12.4.127 nvidia-cudnn-cu12-9.1.0.70 nvidia-cufft-cu12-11.2.1.3 nvidia-curand-cu12-10.3.5.147 nvidia-cusolver-cu12-11.6.1.9 nvidia-cusparse-cu12-12.3.1.170 nvidia-nvjitlink-cu12-12.4.127 tb-nightly-2.20.0a20250413 thop-0.1.1.post2209072238 yapf-0.43.0\n",
            "/usr/local/lib/python3.11/dist-packages/setuptools/__init__.py:94: _DeprecatedInstaller: setuptools.installer and fetch_build_eggs are deprecated.\n",
            "!!\n",
            "\n",
            "        ********************************************************************************\n",
            "        Requirements should be satisfied by a PEP 517 installer.\n",
            "        If you are using pip, you can try `pip install --use-pep517`.\n",
            "        ********************************************************************************\n",
            "\n",
            "!!\n",
            "  dist.fetch_build_eggs(dist.setup_requires)\n",
            "running develop\n",
            "/usr/local/lib/python3.11/dist-packages/setuptools/command/develop.py:41: EasyInstallDeprecationWarning: easy_install command is deprecated.\n",
            "!!\n",
            "\n",
            "        ********************************************************************************\n",
            "        Please avoid running ``setup.py`` and ``easy_install``.\n",
            "        Instead, use pypa/build, pypa/installer or other\n",
            "        standards-based tools.\n",
            "\n",
            "        See https://github.com/pypa/setuptools/issues/917 for details.\n",
            "        ********************************************************************************\n",
            "\n",
            "!!\n",
            "  easy_install.initialize_options(self)\n",
            "/usr/local/lib/python3.11/dist-packages/setuptools/_distutils/cmd.py:66: SetuptoolsDeprecationWarning: setup.py install is deprecated.\n",
            "!!\n",
            "\n",
            "        ********************************************************************************\n",
            "        Please avoid running ``setup.py`` directly.\n",
            "        Instead, use pypa/build, pypa/installer or other\n",
            "        standards-based tools.\n",
            "\n",
            "        See https://blog.ganssle.io/articles/2021/10/setup-py-deprecated.html for details.\n",
            "        ********************************************************************************\n",
            "\n",
            "!!\n",
            "  self.initialize_options()\n",
            "running egg_info\n",
            "creating basicsr.egg-info\n",
            "writing basicsr.egg-info/PKG-INFO\n",
            "writing dependency_links to basicsr.egg-info/dependency_links.txt\n",
            "writing top-level names to basicsr.egg-info/top_level.txt\n",
            "writing manifest file 'basicsr.egg-info/SOURCES.txt'\n",
            "reading manifest file 'basicsr.egg-info/SOURCES.txt'\n",
            "writing manifest file 'basicsr.egg-info/SOURCES.txt'\n",
            "/usr/local/lib/python3.11/dist-packages/torch/utils/cpp_extension.py:529: UserWarning: Attempted to use ninja as the BuildExtension backend but we could not find ninja.. Falling back to using the slow distutils backend.\n",
            "  warnings.warn(msg.format('we could not find ninja.'))\n",
            "running build_ext\n",
            "Creating /usr/local/lib/python3.11/dist-packages/basicsr.egg-link (link to .)\n",
            "Adding basicsr 1.2.0+450a4f2 to easy-install.pth file\n",
            "\n",
            "Installed /content/Shift-Net\n",
            "Processing dependencies for basicsr==1.2.0+450a4f2\n",
            "Finished processing dependencies for basicsr==1.2.0+450a4f2\n",
            "Collecting mediapy\n",
            "  Downloading mediapy-1.2.2-py3-none-any.whl.metadata (4.8 kB)\n",
            "Requirement already satisfied: ipython in /usr/local/lib/python3.11/dist-packages (from mediapy) (7.34.0)\n",
            "Requirement already satisfied: matplotlib in /usr/local/lib/python3.11/dist-packages (from mediapy) (3.10.0)\n",
            "Requirement already satisfied: numpy in /usr/local/lib/python3.11/dist-packages (from mediapy) (2.0.2)\n",
            "Requirement already satisfied: Pillow in /usr/local/lib/python3.11/dist-packages (from mediapy) (11.1.0)\n",
            "Requirement already satisfied: setuptools>=18.5 in /usr/local/lib/python3.11/dist-packages (from ipython->mediapy) (75.2.0)\n",
            "Collecting jedi>=0.16 (from ipython->mediapy)\n",
            "  Downloading jedi-0.19.2-py2.py3-none-any.whl.metadata (22 kB)\n",
            "Requirement already satisfied: decorator in /usr/local/lib/python3.11/dist-packages (from ipython->mediapy) (4.4.2)\n",
            "Requirement already satisfied: pickleshare in /usr/local/lib/python3.11/dist-packages (from ipython->mediapy) (0.7.5)\n",
            "Requirement already satisfied: traitlets>=4.2 in /usr/local/lib/python3.11/dist-packages (from ipython->mediapy) (5.7.1)\n",
            "Requirement already satisfied: prompt-toolkit!=3.0.0,!=3.0.1,<3.1.0,>=2.0.0 in /usr/local/lib/python3.11/dist-packages (from ipython->mediapy) (3.0.50)\n",
            "Requirement already satisfied: pygments in /usr/local/lib/python3.11/dist-packages (from ipython->mediapy) (2.18.0)\n",
            "Requirement already satisfied: backcall in /usr/local/lib/python3.11/dist-packages (from ipython->mediapy) (0.2.0)\n",
            "Requirement already satisfied: matplotlib-inline in /usr/local/lib/python3.11/dist-packages (from ipython->mediapy) (0.1.7)\n",
            "Requirement already satisfied: pexpect>4.3 in /usr/local/lib/python3.11/dist-packages (from ipython->mediapy) (4.9.0)\n",
            "Requirement already satisfied: contourpy>=1.0.1 in /usr/local/lib/python3.11/dist-packages (from matplotlib->mediapy) (1.3.1)\n",
            "Requirement already satisfied: cycler>=0.10 in /usr/local/lib/python3.11/dist-packages (from matplotlib->mediapy) (0.12.1)\n",
            "Requirement already satisfied: fonttools>=4.22.0 in /usr/local/lib/python3.11/dist-packages (from matplotlib->mediapy) (4.57.0)\n",
            "Requirement already satisfied: kiwisolver>=1.3.1 in /usr/local/lib/python3.11/dist-packages (from matplotlib->mediapy) (1.4.8)\n",
            "Requirement already satisfied: packaging>=20.0 in /usr/local/lib/python3.11/dist-packages (from matplotlib->mediapy) (24.2)\n",
            "Requirement already satisfied: pyparsing>=2.3.1 in /usr/local/lib/python3.11/dist-packages (from matplotlib->mediapy) (3.2.3)\n",
            "Requirement already satisfied: python-dateutil>=2.7 in /usr/local/lib/python3.11/dist-packages (from matplotlib->mediapy) (2.8.2)\n",
            "Requirement already satisfied: parso<0.9.0,>=0.8.4 in /usr/local/lib/python3.11/dist-packages (from jedi>=0.16->ipython->mediapy) (0.8.4)\n",
            "Requirement already satisfied: ptyprocess>=0.5 in /usr/local/lib/python3.11/dist-packages (from pexpect>4.3->ipython->mediapy) (0.7.0)\n",
            "Requirement already satisfied: wcwidth in /usr/local/lib/python3.11/dist-packages (from prompt-toolkit!=3.0.0,!=3.0.1,<3.1.0,>=2.0.0->ipython->mediapy) (0.2.13)\n",
            "Requirement already satisfied: six>=1.5 in /usr/local/lib/python3.11/dist-packages (from python-dateutil>=2.7->matplotlib->mediapy) (1.17.0)\n",
            "Downloading mediapy-1.2.2-py3-none-any.whl (26 kB)\n",
            "Downloading jedi-0.19.2-py2.py3-none-any.whl (1.6 MB)\n",
            "\u001b[2K   \u001b[90m━━━━━━━━━━━━━━━━━━━━━━━━━━━━━━━━━━━━━━━━\u001b[0m \u001b[32m1.6/1.6 MB\u001b[0m \u001b[31m21.4 MB/s\u001b[0m eta \u001b[36m0:00:00\u001b[0m\n",
            "\u001b[?25hInstalling collected packages: jedi, mediapy\n",
            "Successfully installed jedi-0.19.2 mediapy-1.2.2\n"
          ]
        }
      ],
      "source": [
        "!rm -r Shift-Net\n",
        "# Clone Shift-Net\n",
        "!git clone https://github.com/trappertwo/Shift-Net\n",
        "%cd Shift-Net\n",
        "!pip install -r requirements.txt\n",
        "!python setup.py develop --no_cuda_ext\n",
        "!pip install mediapy"
      ]
    },
    {
      "cell_type": "markdown",
      "metadata": {
        "id": "rqiEtaOYXnrt"
      },
      "source": [
        "# 3. Inference\n"
      ]
    },
    {
      "cell_type": "code",
      "execution_count": 3,
      "metadata": {
        "colab": {
          "base_uri": "https://localhost:8080/"
        },
        "id": "XTVL4m_zXqBU",
        "outputId": "f5833e0e-a966-4768-ae39-f4e1b21bdabe"
      },
      "outputs": [
        {
          "output_type": "stream",
          "name": "stdout",
          "text": [
            "Mounted at /content/drive\n"
          ]
        }
      ],
      "source": [
        "from google.colab import drive\n",
        "\n",
        "drive.mount('/content/drive')"
      ]
    },
    {
      "cell_type": "code",
      "source": [
        "!ls -l /content/drive/MyDrive/research_project/data/GOPRO\n",
        "!cp /content/drive/MyDrive/research_project/data/GOPRO/net_gopro_deblur_small.pth /content/Shift-Net/pretrained_models/net_gopro_deblur_small.pth"
      ],
      "metadata": {
        "colab": {
          "base_uri": "https://localhost:8080/"
        },
        "id": "NdFArCQh93KW",
        "outputId": "f9af3e7d-710a-482d-808b-77549124ed01"
      },
      "execution_count": 17,
      "outputs": [
        {
          "output_type": "stream",
          "name": "stdout",
          "text": [
            "total 1211509\n",
            "-r-------- 1 root root 1220799806 May 26  2023 gopro_deblur_s.zip\n",
            "-r-------- 1 root root   19784693 May 26  2023 net_gopro_deblur_small.pth\n"
          ]
        }
      ]
    },
    {
      "cell_type": "code",
      "source": [
        "import os\n",
        "\n",
        "!ls -l /content/drive/MyDrive/test/\n",
        "dir_path = '/content/Shift-Net/dataset/GoPro'\n",
        "if os.path.isdir(dir_path):\n",
        "   print(f\"Directory '{dir_path}' exists.\")\n",
        "else:\n",
        "  os.mkdir(dir_path)\n",
        "dir_path = '/content/Shift-Net/dataset/GoPro/test'\n",
        "if os.path.isdir(dir_path):\n",
        "   print(f\"Directory '{dir_path}' exists.\")\n",
        "else:\n",
        "  os.mkdir(dir_path)\n",
        "\n",
        "!cp -r /content/drive/MyDrive/test/ /content/Shift-Net/dataset/GoPro/test/"
      ],
      "metadata": {
        "colab": {
          "base_uri": "https://localhost:8080/"
        },
        "id": "C4_FjBJx0jr9",
        "outputId": "247294c3-15b1-4889-ca2e-5a94edc47d1b"
      },
      "execution_count": 26,
      "outputs": [
        {
          "output_type": "stream",
          "name": "stdout",
          "text": [
            "total 8\n",
            "drwx------ 2 root root 4096 Oct 16  2019 blur\n",
            "drwx------ 2 root root 4096 Oct 16  2019 gt\n",
            "Directory '/content/Shift-Net/dataset/GoPro' exists.\n",
            "Directory '/content/Shift-Net/dataset/GoPro/test' exists.\n"
          ]
        }
      ]
    },
    {
      "cell_type": "code",
      "source": [
        "!ls -l /content/Shift-Net/dataset/GoPro/test/test/blur"
      ],
      "metadata": {
        "colab": {
          "base_uri": "https://localhost:8080/"
        },
        "id": "3WgQ4s6u8VM1",
        "outputId": "b0e3ce0f-084e-4fe8-aa5c-253065c43bd8"
      },
      "execution_count": 31,
      "outputs": [
        {
          "output_type": "stream",
          "name": "stdout",
          "text": [
            "total 44\n",
            "drwx------ 2 root root 4096 Apr 14 05:48 GOPR0384_11_00\n",
            "drwx------ 2 root root 4096 Apr 14 05:51 GOPR0384_11_05\n",
            "drwx------ 2 root root 4096 Apr 14 05:54 GOPR0385_11_01\n",
            "drwx------ 2 root root 4096 Apr 14 05:56 GOPR0396_11_00\n",
            "drwx------ 2 root root 4096 Apr 14 05:55 GOPR0410_11_00\n",
            "drwx------ 2 root root 4096 Apr 14 05:51 GOPR0854_11_00\n",
            "drwx------ 2 root root 4096 Apr 14 05:49 GOPR0862_11_00\n",
            "drwx------ 2 root root 4096 Apr 14 05:50 GOPR0868_11_00\n",
            "drwx------ 2 root root 4096 Apr 14 05:54 GOPR0869_11_00\n",
            "drwx------ 2 root root 4096 Apr 14 05:52 GOPR0871_11_00\n",
            "drwx------ 2 root root 4096 Apr 14 05:53 GOPR0881_11_01\n"
          ]
        }
      ]
    },
    {
      "cell_type": "code",
      "source": [
        "# Inference on pretrained model with GoPro data\n",
        "\n",
        "!python3 inference/test_deblur_small.py --default_data GOPRO --one_len 16"
      ],
      "metadata": {
        "colab": {
          "base_uri": "https://localhost:8080/"
        },
        "id": "mtYf5A1M1sWJ",
        "outputId": "4484af8c-a18a-48de-db02-08360461e3b8"
      },
      "execution_count": 33,
      "outputs": [
        {
          "output_type": "stream",
          "name": "stdout",
          "text": [
            "Inference - 2025-04-14 06:19:06\n",
            "save_image: False\n",
            "border: False\n",
            "model_path: /content/Shift-Net/pretrained_models/net_gopro_deblur_small.pth\n",
            "data_path: /content/Shift-Net/dataset/GoPro/test/test/\n",
            "result_path: /content/Shift-Net/infer_results/gopro\n",
            "n_seq: 5\n",
            "size_must_mode: 4\n",
            "device: cuda\n",
            "Loading model from /content/Shift-Net/pretrained_models/net_gopro_deblur_small.pth\n",
            "/content/Shift-Net/inference/test_deblur_small.py:122: DeprecationWarning: Starting with ImageIO v3 the behavior of this function will switch to that of iio.v3.imread. To keep the current behavior (and make this warning disappear) use `import imageio.v2 as imageio` or call `imageio.v2.imread` directly.\n",
            "  inputs = [imageio.imread(p) for p in in_seq]\n",
            "/content/Shift-Net/inference/test_deblur_small.py:123: DeprecationWarning: Starting with ImageIO v3 the behavior of this function will switch to that of iio.v3.imread. To keep the current behavior (and make this warning disappear) use `import imageio.v2 as imageio` or call `imageio.v2.imread` directly.\n",
            "  gts = [imageio.imread(p) for p in gt_seq]\n",
            "> GOPR0384_11_00-000003 PSNR=15.242, SSIM=0.5154 pre_time:1.52s, forward_time:21.5s, post_time:12.4s, total_time:35.4s\n",
            "> GOPR0384_11_00-000019 PSNR=21.112, SSIM=0.7411 pre_time:1.48s, forward_time:21.2s, post_time:12.4s, total_time:35.2s\n",
            "> GOPR0384_11_00-000035 PSNR=18.916, SSIM=0.6449 pre_time:1.44s, forward_time:21.6s, post_time:12.6s, total_time:35.6s\n",
            "> GOPR0384_11_00-000051 PSNR=14.525, SSIM=0.4698 pre_time:1.43s, forward_time:22.5s, post_time:12.7s, total_time:36.6s\n",
            "> GOPR0384_11_00-000067 PSNR=16.944, SSIM=0.5728 pre_time:1.43s, forward_time:22.1s, post_time:12.6s, total_time:36.2s\n",
            "> GOPR0384_11_00-000083 PSNR=16.409, SSIM=0.5657 pre_time:1.4s, forward_time:22.3s, post_time:12.7s, total_time:36.4s\n",
            "> GOPR0384_11_05-004003 PSNR=36.084, SSIM=0.9824 pre_time:1.38s, forward_time:22.3s, post_time:12.6s, total_time:36.2s\n",
            "> GOPR0384_11_05-004019 PSNR=35.664, SSIM=0.9799 pre_time:1.37s, forward_time:22.3s, post_time:12.8s, total_time:36.5s\n",
            "> GOPR0384_11_05-004035 PSNR=36.101, SSIM=0.9817 pre_time:1.43s, forward_time:22.3s, post_time:12.9s, total_time:36.6s\n",
            "> GOPR0384_11_05-004051 PSNR=35.258, SSIM=0.9789 pre_time:1.43s, forward_time:22.3s, post_time:12.8s, total_time:36.6s\n",
            "> GOPR0384_11_05-004067 PSNR=30.862, SSIM=0.9588 pre_time:1.41s, forward_time:22.3s, post_time:12.7s, total_time:36.4s\n",
            "> GOPR0384_11_05-004083 PSNR=31.76, SSIM=0.9649 pre_time:1.42s, forward_time:22.3s, post_time:12.8s, total_time:36.5s\n",
            "> GOPR0385_11_01-003013 PSNR=35.09, SSIM=0.9733 pre_time:1.39s, forward_time:22.3s, post_time:12.7s, total_time:36.4s\n",
            "> GOPR0385_11_01-003029 PSNR=36.38, SSIM=0.9689 pre_time:1.37s, forward_time:22.3s, post_time:12.7s, total_time:36.4s\n",
            "> GOPR0385_11_01-003045 PSNR=37.144, SSIM=0.9745 pre_time:1.34s, forward_time:22.3s, post_time:12.7s, total_time:36.3s\n",
            "> GOPR0385_11_01-003061 PSNR=37.137, SSIM=0.9759 pre_time:1.41s, forward_time:22.3s, post_time:12.7s, total_time:36.4s\n",
            "> GOPR0385_11_01-003077 PSNR=36.375, SSIM=0.9772 pre_time:1.39s, forward_time:22.2s, post_time:12.7s, total_time:36.3s\n",
            "> GOPR0385_11_01-003093 PSNR=36.081, SSIM=0.9786 pre_time:1.33s, forward_time:22.3s, post_time:12.7s, total_time:36.3s\n",
            "> GOPR0396_11_00-000003 PSNR=33.078, SSIM=0.9824 pre_time:1.57s, forward_time:22.3s, post_time:12.7s, total_time:36.6s\n",
            "> GOPR0396_11_00-000019 PSNR=35.465, SSIM=0.9904 pre_time:1.52s, forward_time:22.4s, post_time:12.8s, total_time:36.7s\n",
            "> GOPR0396_11_00-000035 PSNR=35.351, SSIM=0.9899 pre_time:1.54s, forward_time:22.3s, post_time:12.7s, total_time:36.5s\n",
            "> GOPR0396_11_00-000051 PSNR=36.219, SSIM=0.9909 pre_time:1.56s, forward_time:22.3s, post_time:12.7s, total_time:36.6s\n",
            "> GOPR0396_11_00-000067 PSNR=37.176, SSIM=0.9932 pre_time:1.58s, forward_time:22.3s, post_time:12.7s, total_time:36.6s\n",
            "> GOPR0396_11_00-000083 PSNR=37.292, SSIM=0.9931 pre_time:1.61s, forward_time:22.3s, post_time:12.7s, total_time:36.7s\n",
            "> GOPR0410_11_00-000103 PSNR=34.465, SSIM=0.9611 pre_time:1.36s, forward_time:22.2s, post_time:12.6s, total_time:36.2s\n",
            "> GOPR0410_11_00-000119 PSNR=31.568, SSIM=0.9181 pre_time:1.34s, forward_time:22.3s, post_time:12.7s, total_time:36.3s\n",
            "> GOPR0410_11_00-000135 PSNR=36.457, SSIM=0.9661 pre_time:1.35s, forward_time:22.3s, post_time:12.7s, total_time:36.4s\n",
            "> GOPR0410_11_00-000151 PSNR=34.944, SSIM=0.962 pre_time:1.36s, forward_time:22.2s, post_time:12.8s, total_time:36.4s\n",
            "> GOPR0410_11_00-000167 PSNR=35.378, SSIM=0.9646 pre_time:1.35s, forward_time:22.3s, post_time:12.8s, total_time:36.4s\n",
            "> GOPR0410_11_00-000183 PSNR=29.822, SSIM=0.93 pre_time:1.38s, forward_time:22.3s, post_time:12.8s, total_time:36.4s\n",
            "> GOPR0410_11_00-000199 PSNR=32.116, SSIM=0.9591 pre_time:1.35s, forward_time:22.3s, post_time:12.7s, total_time:36.4s\n",
            "> GOPR0410_11_00-000215 PSNR=32.386, SSIM=0.9645 pre_time:1.33s, forward_time:22.3s, post_time:12.7s, total_time:36.3s\n",
            "> GOPR0854_11_00-000003 PSNR=33.532, SSIM=0.9686 pre_time:1.41s, forward_time:22.3s, post_time:12.8s, total_time:36.5s\n",
            "> GOPR0854_11_00-000019 PSNR=33.868, SSIM=0.9652 pre_time:1.43s, forward_time:22.3s, post_time:12.7s, total_time:36.5s\n",
            "> GOPR0854_11_00-000035 PSNR=32.754, SSIM=0.9527 pre_time:1.44s, forward_time:22.3s, post_time:12.7s, total_time:36.4s\n",
            "> GOPR0854_11_00-000051 PSNR=34.981, SSIM=0.9707 pre_time:1.45s, forward_time:22.3s, post_time:12.8s, total_time:36.5s\n",
            "> GOPR0854_11_00-000067 PSNR=34.35, SSIM=0.9703 pre_time:1.45s, forward_time:22.3s, post_time:12.7s, total_time:36.4s\n",
            "> GOPR0854_11_00-000083 PSNR=34.301, SSIM=0.9661 pre_time:1.46s, forward_time:22.3s, post_time:12.7s, total_time:36.5s\n",
            "> GOPR0862_11_00-000003 PSNR=32.818, SSIM=0.9591 pre_time:1.51s, forward_time:22.3s, post_time:12.6s, total_time:36.4s\n",
            "> GOPR0862_11_00-000019 PSNR=35.38, SSIM=0.9796 pre_time:1.49s, forward_time:22.3s, post_time:12.8s, total_time:36.6s\n",
            "> GOPR0862_11_00-000035 PSNR=32.232, SSIM=0.9626 pre_time:1.56s, forward_time:22.3s, post_time:12.7s, total_time:36.5s\n",
            "> GOPR0862_11_00-000051 PSNR=31.292, SSIM=0.9637 pre_time:1.41s, forward_time:22.4s, post_time:12.8s, total_time:36.6s\n",
            "> GOPR0868_11_00-000003 PSNR=34.491, SSIM=0.984 pre_time:1.49s, forward_time:22.2s, post_time:12.8s, total_time:36.6s\n",
            "> GOPR0868_11_00-000019 PSNR=33.063, SSIM=0.9774 pre_time:1.47s, forward_time:22.2s, post_time:12.7s, total_time:36.5s\n",
            "> GOPR0868_11_00-000035 PSNR=35.163, SSIM=0.9857 pre_time:1.44s, forward_time:22.4s, post_time:12.7s, total_time:36.5s\n",
            "> GOPR0868_11_00-000051 PSNR=33.246, SSIM=0.9763 pre_time:1.39s, forward_time:22.3s, post_time:12.7s, total_time:36.4s\n",
            "> GOPR0868_11_00-000067 PSNR=34.72, SSIM=0.9837 pre_time:1.4s, forward_time:22.3s, post_time:12.7s, total_time:36.3s\n",
            "> GOPR0868_11_00-000083 PSNR=34.154, SSIM=0.9803 pre_time:1.4s, forward_time:22.3s, post_time:13.3s, total_time:36.9s\n",
            "> GOPR0869_11_00-000003 PSNR=34.599, SSIM=0.9699 pre_time:1.47s, forward_time:22.3s, post_time:12.9s, total_time:36.6s\n",
            "> GOPR0869_11_00-000019 PSNR=32.707, SSIM=0.96 pre_time:1.41s, forward_time:22.3s, post_time:12.9s, total_time:36.5s\n",
            "> GOPR0869_11_00-000035 PSNR=38.639, SSIM=0.9904 pre_time:1.42s, forward_time:22.3s, post_time:12.9s, total_time:36.6s\n",
            "> GOPR0869_11_00-000051 PSNR=34.095, SSIM=0.9737 pre_time:1.42s, forward_time:22.3s, post_time:12.7s, total_time:36.4s\n",
            "> GOPR0869_11_00-000067 PSNR=34.161, SSIM=0.9748 pre_time:1.39s, forward_time:22.3s, post_time:12.7s, total_time:36.3s\n",
            "> GOPR0869_11_00-000083 PSNR=30.463, SSIM=0.9583 pre_time:1.46s, forward_time:22.3s, post_time:12.6s, total_time:36.3s\n",
            "> GOPR0871_11_00-000003 PSNR=33.677, SSIM=0.976 pre_time:1.42s, forward_time:22.3s, post_time:12.6s, total_time:36.3s\n",
            "> GOPR0871_11_00-000019 PSNR=33.801, SSIM=0.9743 pre_time:1.42s, forward_time:22.3s, post_time:12.7s, total_time:36.4s\n",
            "> GOPR0871_11_00-000035 PSNR=33.451, SSIM=0.967 pre_time:1.47s, forward_time:22.3s, post_time:12.7s, total_time:36.4s\n",
            "> GOPR0871_11_00-000051 PSNR=35.546, SSIM=0.9728 pre_time:1.48s, forward_time:22.3s, post_time:12.6s, total_time:36.4s\n",
            "> GOPR0871_11_00-000067 PSNR=34.816, SSIM=0.968 pre_time:1.41s, forward_time:22.3s, post_time:12.7s, total_time:36.3s\n",
            "> GOPR0871_11_00-000083 PSNR=35.27, SSIM=0.9762 pre_time:1.41s, forward_time:22.3s, post_time:12.7s, total_time:36.4s\n",
            "> GOPR0881_11_01-000203 PSNR=36.427, SSIM=0.9801 pre_time:1.29s, forward_time:22.2s, post_time:12.7s, total_time:36.2s\n",
            "> GOPR0881_11_01-000219 PSNR=39.175, SSIM=0.9885 pre_time:1.29s, forward_time:22.2s, post_time:12.6s, total_time:36.2s\n",
            "> GOPR0881_11_01-000235 PSNR=38.465, SSIM=0.9864 pre_time:1.32s, forward_time:22.2s, post_time:12.7s, total_time:36.2s\n",
            "> GOPR0881_11_01-000251 PSNR=38.211, SSIM=0.9864 pre_time:1.3s, forward_time:22.2s, post_time:12.8s, total_time:36.3s\n",
            "> GOPR0881_11_01-000267 PSNR=39.431, SSIM=0.9887 pre_time:1.3s, forward_time:22.2s, post_time:12.7s, total_time:36.2s\n",
            "> GOPR0881_11_01-000283 PSNR=37.048, SSIM=0.9839 pre_time:1.31s, forward_time:22.2s, post_time:12.8s, total_time:36.3s\n",
            "# Video:GOPR0384_11_00 AVG-PSNR=19.383, AVG-SSIM=0.6408\n",
            "# Video:GOPR0384_11_05 AVG-PSNR=34.604, AVG-SSIM=0.9761\n",
            "# Video:GOPR0385_11_01 AVG-PSNR=36.295, AVG-SSIM=0.9734\n",
            "# Video:GOPR0396_11_00 AVG-PSNR=35.177, AVG-SSIM=0.9881\n",
            "# Video:GOPR0410_11_00 AVG-PSNR=34.416, AVG-SSIM=0.9609\n",
            "# Video:GOPR0854_11_00 AVG-PSNR=33.619, AVG-SSIM=0.9636\n",
            "# Video:GOPR0862_11_00 AVG-PSNR=33.288, AVG-SSIM=0.9669\n",
            "# Video:GOPR0868_11_00 AVG-PSNR=34.048, AVG-SSIM=0.981\n",
            "# Video:GOPR0869_11_00 AVG-PSNR=34.763, AVG-SSIM=0.9751\n",
            "# Video:GOPR0871_11_00 AVG-PSNR=34.238, AVG-SSIM=0.9713\n",
            "# Video:GOPR0881_11_01 AVG-PSNR=38.309, AVG-SSIM=0.986\n",
            "# Total AVG-PSNR=33.501, AVG-SSIM=0.9437\n"
          ]
        }
      ]
    },
    {
      "cell_type": "code",
      "source": [],
      "metadata": {
        "id": "KS3z7rVGmlZI"
      },
      "execution_count": null,
      "outputs": []
    }
  ],
  "metadata": {
    "accelerator": "GPU",
    "colab": {
      "gpuType": "T4",
      "machine_shape": "hm",
      "provenance": []
    },
    "kernelspec": {
      "display_name": "Python 3",
      "name": "python3"
    },
    "language_info": {
      "name": "python"
    }
  },
  "nbformat": 4,
  "nbformat_minor": 0
}